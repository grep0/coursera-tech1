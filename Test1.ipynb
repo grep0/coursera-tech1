{
  "nbformat": 4,
  "nbformat_minor": 0,
  "metadata": {
    "colab": {
      "provenance": [],
      "authorship_tag": "ABX9TyMd9xN02s3Q2rh9o0GeyzE6",
      "include_colab_link": true
    },
    "kernelspec": {
      "name": "python3",
      "display_name": "Python 3"
    },
    "language_info": {
      "name": "python"
    }
  },
  "cells": [
    {
      "cell_type": "markdown",
      "metadata": {
        "id": "view-in-github",
        "colab_type": "text"
      },
      "source": [
        "<a href=\"https://colab.research.google.com/github/grep0/coursera-tech1/blob/main/Test1.ipynb\" target=\"_parent\"><img src=\"https://colab.research.google.com/assets/colab-badge.svg\" alt=\"Open In Colab\"/></a>"
      ]
    },
    {
      "cell_type": "markdown",
      "source": [
        "## Hello world"
      ],
      "metadata": {
        "id": "_S8nXZaDLlk1"
      }
    },
    {
      "cell_type": "code",
      "execution_count": 2,
      "metadata": {
        "id": "g14PWLoALjJA"
      },
      "outputs": [],
      "source": [
        "def hello():\n",
        "  return \"hi\""
      ]
    },
    {
      "cell_type": "code",
      "source": [
        "hello()"
      ],
      "metadata": {
        "colab": {
          "base_uri": "https://localhost:8080/",
          "height": 35
        },
        "id": "X4cOf6weLu8d",
        "outputId": "ad58ea37-197c-4926-d628-8b142d65c063"
      },
      "execution_count": 3,
      "outputs": [
        {
          "output_type": "execute_result",
          "data": {
            "text/plain": [
              "'hi'"
            ],
            "application/vnd.google.colaboratory.intrinsic+json": {
              "type": "string"
            }
          },
          "metadata": {},
          "execution_count": 3
        }
      ]
    },
    {
      "cell_type": "markdown",
      "source": [
        "## Here comes some fun\n",
        "1. Apples\n",
        " * Cider\n",
        "2. Oranges\n",
        " - Blood oranges\n",
        " - Navel oranges\n",
        "3. Tangerines"
      ],
      "metadata": {
        "id": "vhupzTEBMdsu"
      }
    },
    {
      "cell_type": "code",
      "source": [
        "for i in range(5):\n",
        "  print(hello())"
      ],
      "metadata": {
        "id": "DzMgTlRmLw8g",
        "outputId": "b1a4f667-6dc8-4f0b-e84f-c5ea8e147696",
        "colab": {
          "base_uri": "https://localhost:8080/"
        }
      },
      "execution_count": 4,
      "outputs": [
        {
          "output_type": "stream",
          "name": "stdout",
          "text": [
            "hi\n",
            "hi\n",
            "hi\n",
            "hi\n",
            "hi\n"
          ]
        }
      ]
    }
  ]
}